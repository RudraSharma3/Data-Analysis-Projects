{
  "nbformat": 4,
  "nbformat_minor": 0,
  "metadata": {
    "colab": {
      "provenance": [],
      "authorship_tag": "ABX9TyMW8iOhcBdQplVAbMaZkVCH",
      "include_colab_link": true
    },
    "kernelspec": {
      "name": "python3",
      "display_name": "Python 3"
    },
    "language_info": {
      "name": "python"
    }
  },
  "cells": [
    {
      "cell_type": "markdown",
      "metadata": {
        "id": "view-in-github",
        "colab_type": "text"
      },
      "source": [
        "<a href=\"https://colab.research.google.com/github/RudraSharma3/Data-Analysis-Projects/blob/main/MARVEL_DATASET.ipynb\" target=\"_parent\"><img src=\"https://colab.research.google.com/assets/colab-badge.svg\" alt=\"Open In Colab\"/></a>"
      ]
    },
    {
      "cell_type": "markdown",
      "source": [
        "PROJECT 3"
      ],
      "metadata": {
        "id": "6aJzSfXNaXh1"
      }
    },
    {
      "cell_type": "code",
      "execution_count": 23,
      "metadata": {
        "colab": {
          "base_uri": "https://localhost:8080/"
        },
        "id": "J8iXe5qkZ4tI",
        "outputId": "69103012-4cc7-490f-8b39-d8d36004f62a"
      },
      "outputs": [
        {
          "output_type": "execute_result",
          "data": {
            "text/plain": [
              "Index(['Movie', 'Release Date', 'Release Month', 'Release Day', 'Release Year',\n",
              "       'Ownership', 'Domestic Box Office', 'Inflation Adjusted Domestic',\n",
              "       'International Box Office', 'Inflation Adjusted International',\n",
              "       'Worldwide Box Office', 'Inflation Adjusted Worldwide',\n",
              "       'Opening Weekend', 'Inflation Adjusted Opening Weekend', 'Budget',\n",
              "       'Inflation Adjusted Budget', 'IMDb Score', 'Meta Score', 'Tomatometer',\n",
              "       'Rotten Tomato Audience Score', 'Run Time In Minutes', 'Phase',\n",
              "       'Director'],\n",
              "      dtype='object')"
            ]
          },
          "metadata": {},
          "execution_count": 23
        }
      ],
      "source": [
        "import pandas as pd\n",
        "df = pd.read_csv('/content/marvel_box_office.csv')\n",
        "df.columns"
      ]
    },
    {
      "cell_type": "markdown",
      "source": [
        "TASK 1"
      ],
      "metadata": {
        "id": "1uLFc9PkbYHa"
      }
    },
    {
      "cell_type": "code",
      "source": [
        "# What is the average IMDB score of the movies in the dataset ?\n",
        "df['IMDb Score'].mean()"
      ],
      "metadata": {
        "colab": {
          "base_uri": "https://localhost:8080/"
        },
        "id": "P_r5dZLMauX5",
        "outputId": "3ce7c776-1ed8-43f4-95ac-545747c86b45"
      },
      "execution_count": 24,
      "outputs": [
        {
          "output_type": "execute_result",
          "data": {
            "text/plain": [
              "6.760294117647058"
            ]
          },
          "metadata": {},
          "execution_count": 24
        }
      ]
    },
    {
      "cell_type": "markdown",
      "source": [
        "TASK 2"
      ],
      "metadata": {
        "id": "fv4uQ6Ulb378"
      }
    },
    {
      "cell_type": "code",
      "source": [
        "# How does distribution of meta score according to budget look in the dataset ?\n",
        "import matplotlib.pyplot as plt\n",
        "plt.bar(df['Meta Score'], df['Budget'])\n",
        "plt.xlabel('Meta Score')\n",
        "plt.ylabel('Budget')\n",
        "plt.title('Distribution of Meta Score according to Budget')\n",
        "plt.show()"
      ],
      "metadata": {
        "colab": {
          "base_uri": "https://localhost:8080/",
          "height": 472
        },
        "id": "QWu8SRz1b4xP",
        "outputId": "230d3d5b-74dc-4fe1-88a9-d5c90b4db186"
      },
      "execution_count": 25,
      "outputs": [
        {
          "output_type": "display_data",
          "data": {
            "text/plain": [
              "<Figure size 640x480 with 1 Axes>"
            ],
            "image/png": "[encoded data removed]"
          },
          "metadata": {}
        }
      ]
    },
    {
      "cell_type": "markdown",
      "source": [
        "TASK 3"
      ],
      "metadata": {
        "id": "ZnqZ-h_Rc5SF"
      }
    },
    {
      "cell_type": "code",
      "source": [
        "# Which movie had the highest opening weekend box office revenue ?\n",
        "x = df['Opening Weekend'].max()\n",
        "df[df['Opening Weekend'] == x]['Movie']"
      ],
      "metadata": {
        "colab": {
          "base_uri": "https://localhost:8080/"
        },
        "id": "TrGa3cT2c673",
        "outputId": "6e110c16-7bf3-4059-98d8-1e735f32d5b7"
      },
      "execution_count": 26,
      "outputs": [
        {
          "output_type": "execute_result",
          "data": {
            "text/plain": [
              "21    Avengers: Endgame\n",
              "Name: Movie, dtype: object"
            ]
          },
          "metadata": {},
          "execution_count": 26
        }
      ]
    },
    {
      "cell_type": "markdown",
      "source": [
        "TASK 4"
      ],
      "metadata": {
        "id": "2VDdurn_eWri"
      }
    },
    {
      "cell_type": "code",
      "source": [
        "# Meaning of corelation\n",
        "'''\n",
        "    A correlation of:\n",
        "\n",
        "        1 means a perfect positive linear relationship, where an increase in one variable results in a corresponding increase in the other variable.\n",
        "        -1 means a perfect negative linear relationship, where an increase in one variable results in a corresponding decrease in the other variable.\n",
        "        0 means no linear relationship between the variables.\n",
        "\n",
        "        r = 1: Perfect positive linear relationship\n",
        "        r = 0.7 to 0.9: Strong positive linear relationship\n",
        "        r = 0.4 to 0.6: Moderate positive linear relationship\n",
        "        r = 0.1 to 0.3: Weak positive linear relationship\n",
        "        r = 0: No linear relationship\n",
        "        r = -0.1 to -0.3: Weak negative linear relationship\n",
        "        r = -0.4 to -0.6: Moderate negative linear relationship\n",
        "        r = -0.7 to -0.9: Strong negative linear relationship\n",
        "        r = -1: Perfect negative linear relationship\n",
        "\n",
        "\n",
        "'''\n",
        "# Is there a corelation between the budget and box office revenue ?\n",
        "df1 = df['Budget']\n",
        "df2 = df['IMDb Score']\n",
        "corr = df1.corr(df2)\n",
        "if(corr == 1) :\n",
        "  print('Perfect positive linear relationship')\n",
        "elif(corr == -1) :\n",
        "  print('Perfect negative linear relationship')\n",
        "elif(corr > 0.7 and corr < 0.9) :\n",
        "  print('Strong positive linear relationship')\n",
        "elif(corr > 0.4 and corr < 0.6) :\n",
        "  print('Moderate positive linear relationship')\n",
        "elif(corr > 0.1 and corr < 0.3) :\n",
        "  print('Weak positive linear relationship')\n",
        "elif(corr == 0) :\n",
        "  print('No linear relationship')\n",
        "elif(corr > -0.1 and corr < -0.3) :\n",
        "  print('Weak negative linear relationship')\n",
        "elif(corr > -0.4 and corr < -0.6) :\n",
        "  print('Moderate negative linear relationship')\n",
        "elif(corr > -0.7 and corr < -0.9) :\n",
        "  print('Strong negative linear relationship')\n",
        "else :\n",
        "  print('No linear relationship')"
      ],
      "metadata": {
        "colab": {
          "base_uri": "https://localhost:8080/"
        },
        "id": "39tTYKieeYHf",
        "outputId": "9a2ad453-6e2b-4aea-858e-bd10e865ed72"
      },
      "execution_count": 27,
      "outputs": [
        {
          "output_type": "stream",
          "name": "stdout",
          "text": [
            "Moderate positive linear relationship\n"
          ]
        }
      ]
    },
    {
      "cell_type": "markdown",
      "source": [
        "TASK 5"
      ],
      "metadata": {
        "id": "Xb9o7na7gc4Z"
      }
    },
    {
      "cell_type": "code",
      "source": [
        "# What is the most common release month for movies in the dataset ?\n",
        "'''\n",
        "\n",
        "\n",
        "    a = df[df['Release Month'] == 'January']['Movie'].count()\n",
        "    b = df[df['Release Month'] == 'February']['Movie'].count()\n",
        "    c = df[df['Release Month'] == 'March']['Movie'].count()\n",
        "    d = df[df['Release Month'] == 'April']['Movie'].count()\n",
        "    e = df[df['Release Month'] == 'May']['Movie'].count()\n",
        "    f = df[df['Release Month'] == 'June']['Movie'].count()\n",
        "    g = df[df['Release Month'] == 'July']['Movie'].count()\n",
        "    h = df[df['Release Month'] == 'August']['Movie'].count()\n",
        "    i = df[df['Release Month'] == 'September']['Movie'].count()\n",
        "    j = df[df['Release Month'] == 'October']['Movie'].count()\n",
        "    k = df[df['Release Month'] == 'November']['Movie'].count()\n",
        "    l = df[df['Release Month'] == 'December']['Movie'].count()\n",
        "\n",
        "\n",
        "----- Instead of doing this use value_counts() method -----\n",
        "\n",
        "'''\n",
        "# df['Release Month'].value_counts().index[0]\n",
        "df['Release Month'].mode()"
      ],
      "metadata": {
        "colab": {
          "base_uri": "https://localhost:8080/"
        },
        "id": "kLTG933zgaJv",
        "outputId": "d40a62de-9d57-4a00-c341-766d492b93a5"
      },
      "execution_count": 28,
      "outputs": [
        {
          "output_type": "execute_result",
          "data": {
            "text/plain": [
              "0    May\n",
              "Name: Release Month, dtype: object"
            ]
          },
          "metadata": {},
          "execution_count": 28
        }
      ]
    },
    {
      "cell_type": "markdown",
      "source": [
        "TASK 6"
      ],
      "metadata": {
        "id": "opYj7IcAmBY-"
      }
    },
    {
      "cell_type": "code",
      "source": [
        "# How many movies were release in each phase ?\n",
        "df['Phase'].value_counts()"
      ],
      "metadata": {
        "colab": {
          "base_uri": "https://localhost:8080/"
        },
        "id": "Z1G3xyC8mCGm",
        "outputId": "719041cb-e110-4775-e509-fed28d990998"
      },
      "execution_count": 29,
      "outputs": [
        {
          "output_type": "execute_result",
          "data": {
            "text/plain": [
              "Phase\n",
              "Three    11\n",
              "Four      7\n",
              "One       6\n",
              "Two       6\n",
              "Five      3\n",
              "Name: count, dtype: int64"
            ]
          },
          "metadata": {},
          "execution_count": 29
        }
      ]
    },
    {
      "cell_type": "markdown",
      "source": [
        "TASK 7"
      ],
      "metadata": {
        "id": "GT1h-I3aml8T"
      }
    },
    {
      "cell_type": "code",
      "source": [
        "# What is the average runtime of movies in dataset ?\n",
        "x = df['Run Time In Minutes'].mean()\n",
        "print(\"Average runtime of movies in dataset is :\",x,\"minutes..!!\")"
      ],
      "metadata": {
        "colab": {
          "base_uri": "https://localhost:8080/"
        },
        "id": "K9a89Yfvmmt5",
        "outputId": "da5de11d-17e2-4bb6-fcd5-8288c314bd57"
      },
      "execution_count": 30,
      "outputs": [
        {
          "output_type": "stream",
          "name": "stdout",
          "text": [
            "Average runtime of movies in dataset is : 123.70588235294117 minutes..!!\n"
          ]
        }
      ]
    },
    {
      "cell_type": "markdown",
      "source": [
        "TASK 8"
      ],
      "metadata": {
        "id": "B59rjUCTnNOA"
      }
    },
    {
      "cell_type": "code",
      "source": [
        "# Which director has the highest average IMDB score for their movies ?\n",
        "x = df['IMDb Score'].max()\n",
        "df[df['IMDb Score'] == x]['Director']\n",
        "# df.groupby(by = df['Director'])['IMDb Score'].mean().sort_values(ascending=False)"
      ],
      "metadata": {
        "colab": {
          "base_uri": "https://localhost:8080/"
        },
        "id": "Q25467RNnOWk",
        "outputId": "b06ceeb0-049c-41b3-b722-6590dc37b261"
      },
      "execution_count": 31,
      "outputs": [
        {
          "output_type": "execute_result",
          "data": {
            "text/plain": [
              "18    Anthony and Joe Russo\n",
              "21    Anthony and Joe Russo\n",
              "Name: Director, dtype: object"
            ]
          },
          "metadata": {},
          "execution_count": 31
        }
      ]
    },
    {
      "cell_type": "markdown",
      "source": [
        "TASK 9"
      ],
      "metadata": {
        "id": "_yOculFtqCvz"
      }
    },
    {
      "cell_type": "code",
      "source": [
        "# What is the overall trend in the inflation - adjusted worldwide box office over the years ?\n",
        "plt.bar(df['Release Year'],df['Inflation Adjusted Worldwide'])\n",
        "plt.xlabel('Inflation Adjusted Worldwide')\n",
        "plt.ylabel('Release Year')\n",
        "plt.title('Overall trend in the inflation - adjusted worldwide box office over the years')\n",
        "plt.show()"
      ],
      "metadata": {
        "colab": {
          "base_uri": "https://localhost:8080/",
          "height": 487
        },
        "id": "z5phy_fPqD7y",
        "outputId": "9bb1a812-4c7e-4d13-ff4d-c05aeca803a4"
      },
      "execution_count": 32,
      "outputs": [
        {
          "output_type": "display_data",
          "data": {
            "text/plain": [
              "<Figure size 640x480 with 1 Axes>"
            ],
            "image/png": "[encoded data removed]"
          },
          "metadata": {}
        }
      ]
    },
    {
      "cell_type": "markdown",
      "source": [
        "TASK 10"
      ],
      "metadata": {
        "id": "VeQsCMdxsDMl"
      }
    },
    {
      "cell_type": "code",
      "source": [
        "# Do movies with higher budgets tend to have higher IMDb Score ?\n",
        "plt.scatter(df['Budget'], df['IMDb Score'])\n",
        "plt.xlabel('Budget (millions)')\n",
        "plt.ylabel('IMDb Score')\n",
        "plt.title('Do movies with higher budgets tend to have higher IMDb Score ?')\n",
        "plt.show()"
      ],
      "metadata": {
        "colab": {
          "base_uri": "https://localhost:8080/",
          "height": 472
        },
        "id": "67j3z88ysENl",
        "outputId": "273e97cc-3c9d-4b30-ee4e-21225f36b600"
      },
      "execution_count": 33,
      "outputs": [
        {
          "output_type": "display_data",
          "data": {
            "text/plain": [
              "<Figure size 640x480 with 1 Axes>"
            ],
            "image/png": "[encoded data removed]"
          },
          "metadata": {}
        }
      ]
    },
    {
      "cell_type": "markdown",
      "source": [
        "TASK 11"
      ],
      "metadata": {
        "id": "HtzSaqpQxSOx"
      }
    },
    {
      "cell_type": "code",
      "source": [
        "# What is the average Rotten Tomatoes audience score for movies in each phase ?\n",
        "z = df[df['Phase'] == 'One']['Rotten Tomato Audience Score'].mean()\n",
        "print(\"Average Rotten Tomatoes audience score for movies in phase One is : \",z)\n",
        "a = df[df['Phase'] == 'Two']['Rotten Tomato Audience Score'].mean()\n",
        "print(\"Average Rotten Tomatoes audience score for movies in phase Two is : \",a)\n",
        "x = df[df['Phase'] == 'Three']['Rotten Tomato Audience Score'].mean()\n",
        "print(\"Average Rotten Tomatoes audience score for movies in phase Three is : \",x)\n",
        "y = df[df['Phase'] == 'Four']['Rotten Tomato Audience Score'].mean()\n",
        "print(\"Average Rotten Tomatoes audience score for movies in phase Four is : \",y)\n",
        "b = df[df['Phase'] == 'Five']['Rotten Tomato Audience Score'].mean()\n",
        "print(\"Average Rotten Tomatoes audience score for movies in phase Five is : \",b)\n",
        "\n",
        "# df.groupby(by = 'Phase')['Rotten Tomato Audience Score'].mean()\n"
      ],
      "metadata": {
        "id": "yTK6peehxTQF",
        "colab": {
          "base_uri": "https://localhost:8080/"
        },
        "outputId": "4ca88eb0-b410-49e4-de31-979614296779"
      },
      "execution_count": 34,
      "outputs": [
        {
          "output_type": "stream",
          "name": "stdout",
          "text": [
            "Average Rotten Tomatoes audience score for movies in phase One is :  78.83333333333333\n",
            "Average Rotten Tomatoes audience score for movies in phase Two is :  84.0\n",
            "Average Rotten Tomatoes audience score for movies in phase Three is :  83.36363636363636\n",
            "Average Rotten Tomatoes audience score for movies in phase Four is :  88.42857142857143\n",
            "Average Rotten Tomatoes audience score for movies in phase Five is :  86.0\n"
          ]
        }
      ]
    },
    {
      "cell_type": "markdown",
      "source": [
        "TASK 12"
      ],
      "metadata": {
        "id": "ML1ZJHVpRpuR"
      }
    },
    {
      "cell_type": "code",
      "source": [
        "# How many movies fall under each ownership category (e.g. studio , independent) ?\n",
        "df['Ownership'].value_counts()"
      ],
      "metadata": {
        "colab": {
          "base_uri": "https://localhost:8080/"
        },
        "id": "c4YxIzHnRrFI",
        "outputId": "cc2513aa-79f5-4f30-ac1c-40374bd05ecf"
      },
      "execution_count": 35,
      "outputs": [
        {
          "output_type": "execute_result",
          "data": {
            "text/plain": [
              "Ownership\n",
              "Marvel Studios        33\n",
              "20th Century Fox      18\n",
              "Sony Pictures         11\n",
              "New Line Cinema        3\n",
              "Lionsgate Films        2\n",
              "Universal Pictures     1\n",
              "Name: count, dtype: int64"
            ]
          },
          "metadata": {},
          "execution_count": 35
        }
      ]
    },
    {
      "cell_type": "markdown",
      "source": [
        "TASK 13"
      ],
      "metadata": {
        "id": "sAiEYjeKSv4I"
      }
    },
    {
      "cell_type": "code",
      "source": [
        "# What is the average budget for movies in each ownership category ?\n",
        "df.groupby(by = 'Ownership')['Budget'].mean()"
      ],
      "metadata": {
        "colab": {
          "base_uri": "https://localhost:8080/"
        },
        "id": "vsqznOfxSw2w",
        "outputId": "d51ae789-ecdb-4bd7-f6a7-721a640c566e"
      },
      "execution_count": 36,
      "outputs": [
        {
          "output_type": "execute_result",
          "data": {
            "text/plain": [
              "Ownership\n",
              "20th Century Fox      1.248611e+08\n",
              "Lionsgate Films       3.400000e+07\n",
              "Marvel Studios        2.031303e+08\n",
              "New Line Cinema       5.466667e+07\n",
              "Sony Pictures         1.431818e+08\n",
              "Universal Pictures    1.370000e+08\n",
              "Name: Budget, dtype: float64"
            ]
          },
          "metadata": {},
          "execution_count": 36
        }
      ]
    },
    {
      "cell_type": "markdown",
      "source": [
        "TASK 14"
      ],
      "metadata": {
        "id": "B7wtBnnvTRDO"
      }
    },
    {
      "cell_type": "code",
      "source": [
        "# What is the average infaltion - adjusted domestic box office revenue for each director ?\n",
        "df.groupby(by = 'Director')['Inflation Adjusted Domestic'].mean()"
      ],
      "metadata": {
        "id": "1lIXIBmhTR8z",
        "colab": {
          "base_uri": "https://localhost:8080/"
        },
        "outputId": "6bb425c8-395f-45c1-bfb5-e546bef77b74"
      },
      "execution_count": 37,
      "outputs": [
        {
          "output_type": "execute_result",
          "data": {
            "text/plain": [
              "Director\n",
              "Alan Taylor                     2.672624e+08\n",
              "Andy Serkis                     2.162080e+08\n",
              "Ang Lee                         2.308170e+08\n",
              "Anna Boden & Ryan Fleck         4.906679e+08\n",
              "Anthony and Joe Russo           6.507335e+08\n",
              "Brett Ratner                    3.767690e+08\n",
              "Brian Singer                    2.933456e+08\n",
              "Cate Shortland                  1.859473e+08\n",
              "Chloe Zhao                      1.669289e+08\n",
              "Daniel Espinosa                 7.386553e+07\n",
              "David Leitch                    3.751862e+08\n",
              "David S. Goyer                  8.861932e+07\n",
              "Destin Daniel Cretton           2.273501e+08\n",
              "Gavin Hood                      2.525560e+08\n",
              "Guillermo del Toro              1.480306e+08\n",
              "James Gunn                      4.155390e+08\n",
              "James Mangold                   2.186588e+08\n",
              "Joe Johnston                    2.345740e+08\n",
              "Jon Favreau                     4.421024e+08\n",
              "Jon Watts                       5.541806e+08\n",
              "Jonathan Hensleigh              5.708306e+07\n",
              "Josh Boone                      2.669491e+07\n",
              "Josh Trank                      7.009701e+07\n",
              "Joss Whedon                     6.989834e+08\n",
              "Kenneth Brangh                  2.403849e+08\n",
              "Lexi Alexander                  1.180735e+07\n",
              "Louis Leterrier                 1.977043e+08\n",
              "Marc Webb                       3.040408e+08\n",
              "Mark Neveldine, Brian Taylor    6.848997e+07\n",
              "Mark Steven Johnson             1.781535e+08\n",
              "Matthew Vaughn                  1.944110e+08\n",
              "Nia DaCosta                     8.450022e+07\n",
              "Peyton Reed                     2.300059e+08\n",
              "Rob Bowman                      4.009896e+07\n",
              "Ruben Fleischer                 2.467915e+08\n",
              "Ryan Coogler                    6.315044e+08\n",
              "S.J. Clarkson                   4.375662e+07\n",
              "Sam Raimi                       5.728603e+08\n",
              "Scott Derrickson                2.830945e+08\n",
              "Shane Black                     5.297280e+08\n",
              "Simon Kinberg                   7.569412e+07\n",
              "Stephen Norrington              1.574827e+08\n",
              "Taika Waititi                   3.565194e+08\n",
              "Tim Miller                      4.419809e+08\n",
              "Tim Story                       2.280178e+08\n",
              "Name: Inflation Adjusted Domestic, dtype: float64"
            ]
          },
          "metadata": {},
          "execution_count": 37
        }
      ]
    },
    {
      "cell_type": "markdown",
      "source": [
        "TASK 15"
      ],
      "metadata": {
        "id": "2f6syBpY3sEa"
      }
    },
    {
      "cell_type": "code",
      "source": [
        "# Correlation between budget and world wide box office revenue ?\n",
        "df1 = df['Budget']\n",
        "df2 = df['Worldwide Box Office']\n",
        "corr = df1.corr(df2)\n",
        "if(corr == 1) :\n",
        "  print('Perfect positive linear relationship')\n",
        "elif(corr == -1) :\n",
        "  print('Perfect negative linear relationship')\n",
        "elif(corr > 0.7 and corr < 0.9) :\n",
        "  print('Strong positive linear relationship')\n",
        "elif(corr > 0.4 and corr < 0.6) :\n",
        "  print('Moderate positive linear relationship')\n",
        "elif(corr > 0.1 and corr < 0.3) :\n",
        "  print('Weak positive linear relationship')\n",
        "elif(corr == 0) :\n",
        "  print('No linear relationship')\n",
        "elif(corr > -0.1 and corr < -0.3) :\n",
        "  print('Weak negative linear relationship')\n",
        "elif(corr > -0.4 and corr < -0.6) :\n",
        "  print('Moderate negative linear relationship')\n",
        "elif(corr > -0.7 and corr < -0.9) :\n",
        "  print('Strong negative linear relationship')\n",
        "else :\n",
        "  print('No linear relationship')"
      ],
      "metadata": {
        "colab": {
          "base_uri": "https://localhost:8080/"
        },
        "id": "xwIC_CMq3tA2",
        "outputId": "d9b63619-b8ba-4901-8f7f-f187609d44f6"
      },
      "execution_count": 38,
      "outputs": [
        {
          "output_type": "stream",
          "name": "stdout",
          "text": [
            "Strong positive linear relationship\n"
          ]
        }
      ]
    },
    {
      "cell_type": "markdown",
      "source": [
        "TASK 16"
      ],
      "metadata": {
        "id": "vgnz-Oje5qhK"
      }
    },
    {
      "cell_type": "code",
      "source": [
        "# Average run time of movies for each director ?\n",
        "x = df.groupby(by = 'Director')['Run Time In Minutes'].mean()\n",
        "print(\"Average run time of movies of each director are :\")\n",
        "x"
      ],
      "metadata": {
        "colab": {
          "base_uri": "https://localhost:8080/"
        },
        "id": "fIHePpn05raI",
        "outputId": "cfeb4fef-b83a-4043-e55b-35f82f305c71"
      },
      "execution_count": 39,
      "outputs": [
        {
          "output_type": "stream",
          "name": "stdout",
          "text": [
            "Average run time of movies of each director are :\n"
          ]
        },
        {
          "output_type": "execute_result",
          "data": {
            "text/plain": [
              "Director\n",
              "Alan Taylor                     112.000000\n",
              "Andy Serkis                      97.000000\n",
              "Ang Lee                         138.000000\n",
              "Anna Boden & Ryan Fleck         123.000000\n",
              "Anthony and Joe Russo           152.250000\n",
              "Brett Ratner                    104.000000\n",
              "Brian Singer                    128.500000\n",
              "Cate Shortland                  134.000000\n",
              "Chloe Zhao                      156.000000\n",
              "Daniel Espinosa                 104.000000\n",
              "David Leitch                    119.000000\n",
              "David S. Goyer                  113.000000\n",
              "Destin Daniel Cretton           132.000000\n",
              "Gavin Hood                      107.000000\n",
              "Guillermo del Toro              117.000000\n",
              "James Gunn                      135.666667\n",
              "James Mangold                   131.500000\n",
              "Joe Johnston                    124.000000\n",
              "Jon Favreau                     125.000000\n",
              "Jon Watts                       136.666667\n",
              "Jonathan Hensleigh              124.000000\n",
              "Josh Boone                       94.000000\n",
              "Josh Trank                      100.000000\n",
              "Joss Whedon                     142.000000\n",
              "Kenneth Brangh                  115.000000\n",
              "Lexi Alexander                  103.000000\n",
              "Louis Leterrier                 112.000000\n",
              "Marc Webb                       139.000000\n",
              "Mark Neveldine, Brian Taylor     96.000000\n",
              "Mark Steven Johnson             106.500000\n",
              "Matthew Vaughn                  131.000000\n",
              "Nia DaCosta                     105.000000\n",
              "Peyton Reed                     119.666667\n",
              "Rob Bowman                       97.000000\n",
              "Ruben Fleischer                 112.000000\n",
              "Ryan Coogler                    147.500000\n",
              "S.J. Clarkson                   116.000000\n",
              "Sam Raimi                       128.250000\n",
              "Scott Derrickson                115.000000\n",
              "Shane Black                     130.000000\n",
              "Simon Kinberg                   113.000000\n",
              "Stephen Norrington              120.000000\n",
              "Taika Waititi                   124.000000\n",
              "Tim Miller                      108.000000\n",
              "Tim Story                        99.000000\n",
              "Name: Run Time In Minutes, dtype: float64"
            ]
          },
          "metadata": {},
          "execution_count": 39
        }
      ]
    },
    {
      "cell_type": "markdown",
      "source": [
        "TASK 17"
      ],
      "metadata": {
        "id": "e2TKPfgv6egq"
      }
    },
    {
      "cell_type": "code",
      "source": [
        "# Ownership category with the highest average IMDb score ?\n",
        "x = df.groupby(by = 'Ownership')['IMDb Score'].mean()\n",
        "print(\"Highest Ownership category with average IMDb score is :\",x.idxmax())"
      ],
      "metadata": {
        "colab": {
          "base_uri": "https://localhost:8080/"
        },
        "id": "p8ddMZTU6fZ2",
        "outputId": "b70c6b0c-6d69-4800-b422-9ebedf3ded7f"
      },
      "execution_count": 40,
      "outputs": [
        {
          "output_type": "stream",
          "name": "stdout",
          "text": [
            "Highest Ownership category with average IMDb score is : Marvel Studios\n"
          ]
        }
      ]
    },
    {
      "cell_type": "markdown",
      "source": [
        "TASK 18"
      ],
      "metadata": {
        "id": "AHY1z2RN7UC8"
      }
    },
    {
      "cell_type": "code",
      "source": [
        "# Most Common release date ?\n",
        "df['Release Day'].mode()"
      ],
      "metadata": {
        "colab": {
          "base_uri": "https://localhost:8080/"
        },
        "id": "vdN6jdcw7U59",
        "outputId": "1e166164-59d9-4ac7-b050-13287c8e8515"
      },
      "execution_count": 41,
      "outputs": [
        {
          "output_type": "execute_result",
          "data": {
            "text/plain": [
              "0    3\n",
              "Name: Release Day, dtype: int64"
            ]
          },
          "metadata": {},
          "execution_count": 41
        }
      ]
    },
    {
      "cell_type": "markdown",
      "source": [
        "TASK 19"
      ],
      "metadata": {
        "id": "iOZ3Hnsl8G9O"
      }
    },
    {
      "cell_type": "code",
      "source": [
        "# Director with the highest cumutative world wide box office revenue ?\n",
        "x = df.groupby(by = 'Director')['Worldwide Box Office'].sum()\n",
        "print(\"Highest Ownership category with average IMDb score is :\",x.idxmax())"
      ],
      "metadata": {
        "colab": {
          "base_uri": "https://localhost:8080/"
        },
        "id": "abLnNkyJ8H-S",
        "outputId": "73d43f8a-99b1-4595-c557-a57c181e0ce5"
      },
      "execution_count": 42,
      "outputs": [
        {
          "output_type": "stream",
          "name": "stdout",
          "text": [
            "Highest Ownership category with average IMDb score is : Anthony and Joe Russo\n"
          ]
        }
      ]
    },
    {
      "cell_type": "markdown",
      "source": [
        "TASK 20"
      ],
      "metadata": {
        "id": "PwpQyy7A9mt-"
      }
    },
    {
      "cell_type": "code",
      "source": [
        "# Average run time of movies in each ownership category ?\n",
        "x = df.groupby(by = 'Ownership')['Run Time In Minutes'].mean()\n",
        "print(\"Average run time of movies of each ownership category are :\")\n",
        "x"
      ],
      "metadata": {
        "colab": {
          "base_uri": "https://localhost:8080/"
        },
        "id": "G9ZtFwc79nte",
        "outputId": "679a6525-5e49-4e5d-c7f3-8320dd697ff2"
      },
      "execution_count": 43,
      "outputs": [
        {
          "output_type": "stream",
          "name": "stdout",
          "text": [
            "Average run time of movies of each ownership category are :\n"
          ]
        },
        {
          "output_type": "execute_result",
          "data": {
            "text/plain": [
              "Ownership\n",
              "20th Century Fox      113.944444\n",
              "Lionsgate Films       113.500000\n",
              "Marvel Studios        131.696970\n",
              "New Line Cinema       116.666667\n",
              "Sony Pictures         118.181818\n",
              "Universal Pictures    138.000000\n",
              "Name: Run Time In Minutes, dtype: float64"
            ]
          },
          "metadata": {},
          "execution_count": 43
        }
      ]
    },
    {
      "cell_type": "markdown",
      "source": [
        "TASK 21"
      ],
      "metadata": {
        "id": "ls2foHH1-BEl"
      }
    },
    {
      "cell_type": "code",
      "source": [
        "# Correlation between release month and IMDb score ?\n",
        "df1 = df['Budget']\n",
        "df2 = df['Run Time In Minutes']\n",
        "corr = df1.corr(df2)\n",
        "if(corr == 1) :\n",
        "  print('Perfect positive linear relationship')\n",
        "elif(corr == -1) :\n",
        "  print('Perfect negative linear relationship')\n",
        "elif(corr > 0.6 and corr < 0.9) :\n",
        "  print('Strong positive linear relationship')\n",
        "elif(corr > 0.3 and corr < 0.6) :\n",
        "  print('Moderate positive linear relationship')\n",
        "elif(corr > 0.1 and corr < 0.3) :\n",
        "  print('Weak positive linear relationship')\n",
        "elif(corr == 0) :\n",
        "  print('No linear relationship')\n",
        "elif(corr > -0.1 and corr < -0.3) :\n",
        "  print('Weak negative linear relationship')\n",
        "elif(corr > -0.3 and corr < -0.6) :\n",
        "  print('Moderate negative linear relationship')\n",
        "elif(corr > -0.6 and corr < -0.9) :\n",
        "  print('Strong negative linear relationship')\n",
        "else :\n",
        "  print('No linear relationship')"
      ],
      "metadata": {
        "colab": {
          "base_uri": "https://localhost:8080/"
        },
        "id": "NXtoXRYk-BzJ",
        "outputId": "d1752b9d-8ea8-49f1-afe8-cc3d439efe7d"
      },
      "execution_count": 44,
      "outputs": [
        {
          "output_type": "stream",
          "name": "stdout",
          "text": [
            "Strong positive linear relationship\n"
          ]
        }
      ]
    }
  ]
}